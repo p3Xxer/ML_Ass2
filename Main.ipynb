{
 "cells": [
  {
   "cell_type": "code",
   "execution_count": 450,
   "id": "f6df1731",
   "metadata": {},
   "outputs": [],
   "source": [
    "import numpy as np\n",
    "import pandas as pd\n",
    "import scipy.stats as stats\n",
    "import matplotlib.pyplot as plt\n",
    "import seaborn as sns\n",
    "from sklearn.metrics import confusion_matrix"
   ]
  },
  {
   "cell_type": "code",
   "execution_count": 451,
   "id": "9bc9eeed",
   "metadata": {},
   "outputs": [],
   "source": [
    "df = pd.read_csv(\"/Users/khushil/MLASS2/adult.data\")"
   ]
  },
  {
   "attachments": {},
   "cell_type": "markdown",
   "id": "2707273c",
   "metadata": {},
   "source": [
    "Preprocessing"
   ]
  },
  {
   "cell_type": "code",
   "execution_count": 452,
   "id": "68ad4b9d",
   "metadata": {},
   "outputs": [],
   "source": [
    "# Preprocessing\n",
    "cols = df.columns\n",
    "num_cols = df._get_numeric_data().columns\n",
    "num_cols\n",
    "cat_cols = list(set(cols) - set(num_cols))\n",
    "\n",
    "\n",
    "# Removing the target column\n",
    "cat_cols.remove(' <=50K')\n",
    "\n",
    "for col in cat_cols:\n",
    "    df[col] = df[col].replace(' ?', np.NaN)\n",
    "\n",
    "for x in cat_cols:\n",
    "    mode_excluding_null = df[x].dropna().mode().values[0]\n",
    "    df[x] = df[x].fillna(mode_excluding_null)\n",
    "\n",
    "for x in num_cols:\n",
    "    mean_excluding_null = df[x].mean(skipna=True)\n",
    "    df[x] = df[x].fillna(mean_excluding_null)\n",
    "\n",
    "df.isna().sum().sum()\n",
    "\n",
    "# Encoding\n",
    "target = ' <=50K'\n",
    "df[target] = df[target].replace(' <=50K', 0)\n",
    "df[target] = df[target].replace(' >50K', 1)\n",
    "\n",
    "df2 = df\n",
    "df3 = df\n"
   ]
  },
  {
   "cell_type": "code",
   "execution_count": 453,
   "id": "b693112b",
   "metadata": {},
   "outputs": [
    {
     "name": "stdout",
     "output_type": "stream",
     "text": [
      "(10745, 15)\n",
      "(10745, 14)\n",
      "[' Married-civ-spouse' ' Widowed' ' Never-married' ' Divorced'\n",
      " ' Separated' ' Married-spouse-absent' ' Married-AF-spouse']\n"
     ]
    }
   ],
   "source": [
    "# use sklearn to split into train and test\n",
    "from sklearn.model_selection import train_test_split\n",
    "train, test = train_test_split(df, test_size=0.33, random_state=42, shuffle=True)\n",
    "print(test.shape)\n",
    "\n",
    "# drop the target column from the test\n",
    "store = test[target]\n",
    "test = test.drop(target, axis=1)\n",
    "print(test.shape)\n",
    "\n",
    "\n",
    "# print all the unique values in the target column\n",
    "print(train[' Never-married'].unique())"
   ]
  },
  {
   "cell_type": "code",
   "execution_count": 454,
   "id": "291172e2",
   "metadata": {},
   "outputs": [],
   "source": [
    "# Laplace Smoothing on categorical features of the training set\n",
    "def laplace_smoothing_Cat_Feature(feature, value):\n",
    "    # Return the number of rows for which feature is equal to value and target is 0\n",
    "    num_0 = train[(train[feature] == value) & (train[target] == 0)].shape[0]\n",
    "    # Return the number of rows for which feature is equal to value and target is 1\n",
    "    num_1 = train[(train[feature] == value) & (train[target] == 1)].shape[0]\n",
    "\n",
    "    count_0 = train[train[target] == 0].shape[0]\n",
    "    count_1 = train[train[target] == 1].shape[0]\n",
    "    # calculate the conditional probability\n",
    "    pp_0 = (num_0 + 1) / (count_0 + len(train[feature].unique()))\n",
    "    pp_1 = (num_1 + 1) / (count_1 + len(train[feature].unique()))\n",
    "    return pd.Series([pp_0, pp_1], index=['<=50K', '>50K'])"
   ]
  },
  {
   "cell_type": "code",
   "execution_count": 455,
   "id": "d14acc01",
   "metadata": {},
   "outputs": [],
   "source": [
    "#Returns a series that contains the values of the columns < 50K and >50K\n",
    "def pp_Target():\n",
    "    # Count the number of 0 and 1 in the target column\n",
    "    count_0 = train[target].value_counts()[0]\n",
    "    count_1 = train[target].value_counts()[1]\n",
    "    pp_0 = count_0 / (count_0 + count_1)\n",
    "    pp_1 = count_1 / (count_0 + count_1)\n",
    "    return pd.Series([pp_0, pp_1], index=['<=50K', '>50K']) \n",
    "\n",
    "\n",
    "# A function that calculates the conidtional probability of a feature given the target\n",
    "def pp_Cat_Feature(feature, value):\n",
    "    # count the number of 0 and 1 in the target column\n",
    "    count_0 = (train[target].value_counts())[0]\n",
    "    count_1 = (train[target].value_counts())[1]\n",
    "    # count the number of 0 and 1 in the target column where the feature is equal to the value\n",
    "    num_0 = 0\n",
    "    num_1 = 0\n",
    "    \n",
    "    # Return the number of rows for which feature is equal to value and target is 0\n",
    "    num_0 = train[(train[feature] == value) & (train[target] == 0)].shape[0]\n",
    "    # Return the number of rows for which feature is equal to value and target is 1\n",
    "    num_1 = train[(train[feature] == value) & (train[target] == 1)].shape[0]\n",
    "\n",
    "    # calculate the conditional probability\n",
    "    pp_0 = (num_0 / count_0)\n",
    "    pp_1 = (num_1 / count_1)\n",
    "    return pd.Series([pp_0, pp_1], index=['<=50K', '>50K'])\n",
    "\n",
    "\n",
    "# Create a function that maps column names in df to index\n",
    "def get_col_index(col_name):\n",
    "    return df.columns.get_loc(col_name)"
   ]
  },
  {
   "cell_type": "code",
   "execution_count": 456,
   "id": "01f9082f",
   "metadata": {},
   "outputs": [],
   "source": [
    "temp_pp = pp_Target()\n",
    "# function that calculates conditional probability of all unique values of a categorical feature and store it in a dictionary\n",
    "def lap_get_pp_Cat_Feature(feature):\n",
    "    # get the unique values of the feature\n",
    "    unique_values = train[feature].unique()\n",
    "    # create a dictionary to store the conditional probability\n",
    "    lap_pp_dict = {}\n",
    "    for value in unique_values:\n",
    "        lap_pp_dict[value] = laplace_smoothing_Cat_Feature(feature, value)\n",
    "    return lap_pp_dict\n",
    "\n",
    "# function that calculates conditional probability of all unique values of a categorical feature and store it in a dictionary\n",
    "def get_pp_Cat_Feature(feature):\n",
    "    # get the unique values of the feature\n",
    "    unique_values = train[feature].unique()\n",
    "    # create a dictionary to store the conditional probability\n",
    "    pp_dict = {}\n",
    "    for value in unique_values:\n",
    "        pp_dict[value] = pp_Cat_Feature(feature, value)\n",
    "    return pp_dict\n",
    "\n",
    "# function that calculates conditional probability of all unique values of a numerical feature and store it in a dictionary\n",
    "def get_pp_Num_Feature(feature):\n",
    "    pp_dict = {}\n",
    "    mean_0 = train[feature][train[target] == 0].mean()\n",
    "    std_0 = train[feature][train[target] == 0].std()\n",
    "    mean_1 = train[feature][train[target] == 1].mean()\n",
    "    std_1 = train[feature][train[target] == 1].std()\n",
    "    pp_dict['mean_0'] = mean_0\n",
    "    pp_dict['std_0'] = std_0\n",
    "    pp_dict['mean_1'] = mean_1\n",
    "    pp_dict['std_1'] = std_1\n",
    "    return pp_dict"
   ]
  },
  {
   "cell_type": "code",
   "execution_count": 457,
   "id": "f2c1dc5f",
   "metadata": {},
   "outputs": [
    {
     "name": "stdout",
     "output_type": "stream",
     "text": [
      "(10745, 14)\n"
     ]
    }
   ],
   "source": [
    "print(test.shape)\n",
    "# call get_pp_Cat_Feature for each categorical feature and store the result in a dictionary\n",
    "pp_dict = {}\n",
    "for feature in cat_cols:\n",
    "    pp_dict[feature] = get_pp_Cat_Feature(feature)\n",
    "\n",
    "lap_pp_dict = {}\n",
    "for feature in cat_cols:\n",
    "    lap_pp_dict[feature] = lap_get_pp_Cat_Feature(feature)\n",
    "\n",
    "# call get_pp_Num_Feature for each numerical feature and store the result in a dictionary\n",
    "pp_dict_num = {}\n",
    "for feature in num_cols:\n",
    "    pp_dict_num[feature] = get_pp_Num_Feature(feature)"
   ]
  },
  {
   "cell_type": "code",
   "execution_count": 458,
   "id": "4e8cfb51",
   "metadata": {},
   "outputs": [],
   "source": [
    "# A function that classifies a new instance using the Naive Bayes algorithm\n",
    "def classify(instance):\n",
    "\n",
    "    # calculate the prior probability of the target\n",
    "    pp_target = temp_pp\n",
    "    tmp = pd.Series([0,0], index=['<=50K', '>50K'])\n",
    "\n",
    "    # calculate the conditional probability of each feature given the target\n",
    "    pp_cat_features = []\n",
    "    pp_num_features = []\n",
    "\n",
    "    for feature in cat_cols:\n",
    "        ind = get_col_index(feature)\n",
    "        pp_cat_features.append(pp_dict[feature][instance[ind]])\n",
    "    \n",
    "\n",
    "    for feature in num_cols:\n",
    "        ind = get_col_index(feature)\n",
    "        a = (stats.norm.pdf(instance[ind], pp_dict_num[feature]['mean_0'], pp_dict_num[feature]['std_0']))\n",
    "        b = (stats.norm.pdf(instance[ind], pp_dict_num[feature]['mean_1'], pp_dict_num[feature]['std_1']))\n",
    "        pp_num_features.append(pd.Series([a, b], index=['<=50K', '>50K']))\n",
    "    \n",
    "    # calculate the posterior probability of the target given the features\n",
    "    for i in range(len(cat_cols)):\n",
    "        if pp_cat_features[i][0] == 0:\n",
    "            return 1\n",
    "        if pp_cat_features[i][1] == 0:\n",
    "            return 0\n",
    "        tmp = tmp + np.log(pp_cat_features[i])\n",
    "    for i in range(len(num_cols)):\n",
    "        if pp_num_features[i][0] == 0:\n",
    "            return 1\n",
    "        if pp_num_features[i][1] == 0:\n",
    "            return 0\n",
    "        tmp = tmp + np.log(pp_num_features[i])\n",
    "\n",
    "    # classify the instance\n",
    "    tmp = tmp + np.log(pp_target)\n",
    "    if tmp[0] > tmp[1]:\n",
    "        return 0\n",
    "    else:\n",
    "        return 1"
   ]
  },
  {
   "cell_type": "code",
   "execution_count": 459,
   "id": "139a5755",
   "metadata": {},
   "outputs": [],
   "source": [
    "# A function that classifies a new instance using the Naive Bayes algorithm\n",
    "def lap_classify(instance):\n",
    "\n",
    "    # calculate the prior probability of the target\n",
    "    pp_target = temp_pp\n",
    "    tmp = pd.Series([0,0], index=['<=50K', '>50K'])\n",
    "\n",
    "    # calculate the conditional probability of each feature given the target\n",
    "    pp_cat_features = []\n",
    "    pp_num_features = []\n",
    "\n",
    "    for feature in cat_cols:\n",
    "        ind = get_col_index(feature)\n",
    "        pp_cat_features.append(lap_pp_dict[feature][instance[ind]])\n",
    "    \n",
    "\n",
    "    for feature in num_cols:\n",
    "        ind = get_col_index(feature)\n",
    "        a = (stats.norm.pdf(instance[ind], pp_dict_num[feature]['mean_0'], pp_dict_num[feature]['std_0']))\n",
    "        b = (stats.norm.pdf(instance[ind], pp_dict_num[feature]['mean_1'], pp_dict_num[feature]['std_1']))\n",
    "        pp_num_features.append(pd.Series([a, b], index=['<=50K', '>50K']))\n",
    "    \n",
    "    # calculate the posterior probability of the target given the features\n",
    "    for i in range(len(cat_cols)):\n",
    "        if pp_cat_features[i][0] == 0:\n",
    "            return 1\n",
    "        if pp_cat_features[i][1] == 0:\n",
    "            return 0\n",
    "        tmp = tmp + np.log(pp_cat_features[i])\n",
    "    for i in range(len(num_cols)):\n",
    "        if pp_num_features[i][0] == 0:\n",
    "            return 1\n",
    "        if pp_num_features[i][1] == 0:\n",
    "            return 0\n",
    "        tmp = tmp + np.log(pp_num_features[i])\n",
    "\n",
    "    # classify the instance\n",
    "    tmp = tmp + np.log(pp_target)\n",
    "    if tmp[0] > tmp[1]:\n",
    "        return 0\n",
    "    else:\n",
    "        return 1"
   ]
  },
  {
   "cell_type": "code",
   "execution_count": 460,
   "id": "eb69a3fd",
   "metadata": {},
   "outputs": [],
   "source": [
    "# Calculate the accuracy of the model\n",
    "def get_accuracy(test, val):\n",
    "    count = 0\n",
    "    for i in range(test.shape[0]):\n",
    "        if test.iloc[i][val] == test.iloc[i][target]:\n",
    "            count += 1\n",
    "    return count / test.shape[0]\n",
    "\n",
    "def precision(test):\n",
    "    tp = 0\n",
    "    fp = 0\n",
    "    for i in range(test.shape[0]):\n",
    "        if test.iloc[i][val] == 1 and test.iloc[i][target] == 1:\n",
    "            tp += 1\n",
    "        if test.iloc[i][val] == 1 and test.iloc[i][target] == 0:\n",
    "            fp += 1\n",
    "    return tp / (tp + fp)\n",
    "\n",
    "def recall(test):\n",
    "    tp = 0\n",
    "    fn = 0\n",
    "    for i in range(test.shape[0]):\n",
    "        if test.iloc[i]['predicted'] == 1 and test.iloc[i][target] == 1:\n",
    "            tp += 1\n",
    "        if test.iloc[i]['predicted'] == 0 and test.iloc[i][target] == 1:\n",
    "            fn += 1\n",
    "    return tp / (tp + fn)\n",
    "\n",
    "def f1_score(test):\n",
    "    p = precision(test)\n",
    "    r = recall(test)\n",
    "    return 2 * p * r / (p + r)"
   ]
  },
  {
   "cell_type": "code",
   "execution_count": 461,
   "id": "3f2fefe2",
   "metadata": {},
   "outputs": [],
   "source": [
    "# Calculate the accuracy of the model\n",
    "def get_accuracy(test, val):\n",
    "    count = 0\n",
    "    for i in range(test.shape[0]):\n",
    "        if test.iloc[i][val] == test.iloc[i][target]:\n",
    "            count += 1\n",
    "    return count / test.shape[0]\n",
    "\n",
    "def precision(test, val):\n",
    "    tp = 0\n",
    "    fp = 0\n",
    "    for i in range(test.shape[0]):\n",
    "        if test.iloc[i][val] == 1 and test.iloc[i][target] == 1:\n",
    "            tp += 1\n",
    "        if test.iloc[i][val] == 1 and test.iloc[i][target] == 0:\n",
    "            fp += 1\n",
    "    return tp / (tp + fp)\n",
    "\n",
    "def recall(test, val):\n",
    "    tp = 0\n",
    "    fn = 0\n",
    "    for i in range(test.shape[0]):\n",
    "        if test.iloc[i][val] == 1 and test.iloc[i][target] == 1:\n",
    "            tp += 1\n",
    "        if test.iloc[i][val] == 0 and test.iloc[i][target] == 1:\n",
    "            fn += 1\n",
    "    return tp / (tp + fn)\n",
    "\n",
    "def f1_score(test , val):\n",
    "    p = precision(test, val)\n",
    "    r = recall(test, val)\n",
    "    return 2 * p * r / (p + r)"
   ]
  },
  {
   "cell_type": "code",
   "execution_count": 462,
   "id": "cf20320b",
   "metadata": {},
   "outputs": [
    {
     "name": "stdout",
     "output_type": "stream",
     "text": [
      "End of  1 th iteration\n",
      "End of  2 th iteration\n",
      "End of  3 th iteration\n",
      "End of  4 th iteration\n",
      "End of  5 th iteration\n",
      "End of  6 th iteration\n",
      "End of  7 th iteration\n",
      "End of  8 th iteration\n",
      "End of  9 th iteration\n",
      "End of  10 th iteration\n"
     ]
    }
   ],
   "source": [
    "# Create 2 lists to store the accuracy, precision, recall and f1 score of the model and the model with Laplace Smoothing\n",
    "acc = []\n",
    "pre = []\n",
    "rec = []\n",
    "f1 = []\n",
    "acc_lap = []\n",
    "pre_lap = []\n",
    "rec_lap = []\n",
    "f1_lap = []\n",
    "\n",
    "# Calculate the accuracy, precision, recall and f1 score of the model and the model with Laplace Smoothing for 10 times\n",
    "for i in range(10):\n",
    "    train, test = train_test_split(df, test_size=0.2)\n",
    "    train = train.reset_index(drop=True)\n",
    "    test = test.reset_index(drop=True)\n",
    "    store = test[target]\n",
    "    test = test.drop(target, axis=1)\n",
    "    test['predicted'] = test.apply(classify, axis=1)\n",
    "    test.insert(0, target, store)\n",
    "    val = 'predicted'\n",
    "    acc.append(get_accuracy(test, val))\n",
    "    pre.append(precision(test, val))\n",
    "    rec.append(recall(test, val))\n",
    "    f1.append(f1_score(test, val))\n",
    "\n",
    "    #Laplace Smoothing\n",
    "    test2 = test.drop(target, axis=1)\n",
    "    test2 = test2.drop('predicted', axis=1)\n",
    "    test2['laplace_predicted'] = test2.apply(lap_classify, axis=1)\n",
    "    val = 'laplace_predicted'\n",
    "    test2.insert(0, target, store)\n",
    "    acc_lap.append(get_accuracy(test2, val))\n",
    "    pre_lap.append(precision(test2, val))\n",
    "    rec_lap.append(recall(test2, val))\n",
    "    f1_lap.append(f1_score(test2,val))\n",
    "    print(\"End of \", i + 1, \"th iteration\")"
   ]
  },
  {
   "cell_type": "code",
   "execution_count": 463,
   "id": "c978f8c5",
   "metadata": {},
   "outputs": [],
   "source": [
    "# Tabulate the results\n",
    "results = pd.DataFrame({'Accuracy': acc, 'Precision': pre, 'Recall': rec, 'F1 Score': f1})\n",
    "results.insert(0, 'Model', 'Model')\n",
    "results_lap = pd.DataFrame({'Accuracy': acc_lap, 'Precision': pre_lap, 'Recall': rec_lap, 'F1 Score': f1_lap})\n",
    "results_lap.insert(0, 'Model', 'Model:L')\n",
    "results = results.reset_index(drop=True)\n",
    "results_lap = results_lap.reset_index(drop=True)"
   ]
  },
  {
   "cell_type": "code",
   "execution_count": 464,
   "id": "c14cddad",
   "metadata": {},
   "outputs": [
    {
     "name": "stdout",
     "output_type": "stream",
     "text": [
      "Without Laplace Smoothing:\n"
     ]
    },
    {
     "data": {
      "text/html": [
       "<div>\n",
       "<style scoped>\n",
       "    .dataframe tbody tr th:only-of-type {\n",
       "        vertical-align: middle;\n",
       "    }\n",
       "\n",
       "    .dataframe tbody tr th {\n",
       "        vertical-align: top;\n",
       "    }\n",
       "\n",
       "    .dataframe thead th {\n",
       "        text-align: right;\n",
       "    }\n",
       "</style>\n",
       "<table border=\"1\" class=\"dataframe\">\n",
       "  <thead>\n",
       "    <tr style=\"text-align: right;\">\n",
       "      <th></th>\n",
       "      <th>Model</th>\n",
       "      <th>Accuracy</th>\n",
       "      <th>Precision</th>\n",
       "      <th>Recall</th>\n",
       "      <th>F1 Score</th>\n",
       "    </tr>\n",
       "  </thead>\n",
       "  <tbody>\n",
       "    <tr>\n",
       "      <th>0</th>\n",
       "      <td>Model</td>\n",
       "      <td>0.833231</td>\n",
       "      <td>0.709677</td>\n",
       "      <td>0.519464</td>\n",
       "      <td>0.599853</td>\n",
       "    </tr>\n",
       "    <tr>\n",
       "      <th>1</th>\n",
       "      <td>Model</td>\n",
       "      <td>0.839988</td>\n",
       "      <td>0.709378</td>\n",
       "      <td>0.511721</td>\n",
       "      <td>0.594553</td>\n",
       "    </tr>\n",
       "    <tr>\n",
       "      <th>2</th>\n",
       "      <td>Model</td>\n",
       "      <td>0.838452</td>\n",
       "      <td>0.712236</td>\n",
       "      <td>0.542765</td>\n",
       "      <td>0.616058</td>\n",
       "    </tr>\n",
       "    <tr>\n",
       "      <th>3</th>\n",
       "      <td>Model</td>\n",
       "      <td>0.837838</td>\n",
       "      <td>0.713051</td>\n",
       "      <td>0.532602</td>\n",
       "      <td>0.609756</td>\n",
       "    </tr>\n",
       "    <tr>\n",
       "      <th>4</th>\n",
       "      <td>Model</td>\n",
       "      <td>0.828471</td>\n",
       "      <td>0.716949</td>\n",
       "      <td>0.519337</td>\n",
       "      <td>0.602350</td>\n",
       "    </tr>\n",
       "    <tr>\n",
       "      <th>5</th>\n",
       "      <td>Model</td>\n",
       "      <td>0.835381</td>\n",
       "      <td>0.720286</td>\n",
       "      <td>0.515016</td>\n",
       "      <td>0.600596</td>\n",
       "    </tr>\n",
       "    <tr>\n",
       "      <th>6</th>\n",
       "      <td>Model</td>\n",
       "      <td>0.835842</td>\n",
       "      <td>0.732456</td>\n",
       "      <td>0.522201</td>\n",
       "      <td>0.609712</td>\n",
       "    </tr>\n",
       "    <tr>\n",
       "      <th>7</th>\n",
       "      <td>Model</td>\n",
       "      <td>0.829085</td>\n",
       "      <td>0.709705</td>\n",
       "      <td>0.522360</td>\n",
       "      <td>0.601789</td>\n",
       "    </tr>\n",
       "    <tr>\n",
       "      <th>8</th>\n",
       "      <td>Model</td>\n",
       "      <td>0.834920</td>\n",
       "      <td>0.712424</td>\n",
       "      <td>0.524297</td>\n",
       "      <td>0.604052</td>\n",
       "    </tr>\n",
       "    <tr>\n",
       "      <th>9</th>\n",
       "      <td>Model</td>\n",
       "      <td>0.832310</td>\n",
       "      <td>0.703993</td>\n",
       "      <td>0.519206</td>\n",
       "      <td>0.597642</td>\n",
       "    </tr>\n",
       "  </tbody>\n",
       "</table>\n",
       "</div>"
      ],
      "text/plain": [
       "   Model  Accuracy  Precision    Recall  F1 Score\n",
       "0  Model  0.833231   0.709677  0.519464  0.599853\n",
       "1  Model  0.839988   0.709378  0.511721  0.594553\n",
       "2  Model  0.838452   0.712236  0.542765  0.616058\n",
       "3  Model  0.837838   0.713051  0.532602  0.609756\n",
       "4  Model  0.828471   0.716949  0.519337  0.602350\n",
       "5  Model  0.835381   0.720286  0.515016  0.600596\n",
       "6  Model  0.835842   0.732456  0.522201  0.609712\n",
       "7  Model  0.829085   0.709705  0.522360  0.601789\n",
       "8  Model  0.834920   0.712424  0.524297  0.604052\n",
       "9  Model  0.832310   0.703993  0.519206  0.597642"
      ]
     },
     "execution_count": 464,
     "metadata": {},
     "output_type": "execute_result"
    }
   ],
   "source": [
    "print(\"Without Laplace Smoothing:\")\n",
    "results"
   ]
  },
  {
   "cell_type": "code",
   "execution_count": 465,
   "id": "b1ccb58e",
   "metadata": {},
   "outputs": [
    {
     "name": "stdout",
     "output_type": "stream",
     "text": [
      "Average Accuracy:  0.8345515970515971\n",
      "Average Precision:  0.714015554036631\n",
      "Average Recall:  0.5228969698513438\n",
      "Average F1 Score:  0.6036359257504978\n"
     ]
    }
   ],
   "source": [
    "# Calculate the average accuracy, precision, recall and f1 score of the model and the model with Laplace Smoothing\n",
    "print(\"Average Accuracy: \", np.mean(acc))\n",
    "print(\"Average Precision: \", np.mean(pre))\n",
    "print(\"Average Recall: \", np.mean(rec))\n",
    "print(\"Average F1 Score: \", np.mean(f1))"
   ]
  },
  {
   "cell_type": "code",
   "execution_count": 466,
   "id": "a5f016ff",
   "metadata": {},
   "outputs": [
    {
     "data": {
      "text/plain": [
       "Text(0.5, 1.0, 'Confusion matrix of the model without laplace smoothing')"
      ]
     },
     "execution_count": 466,
     "metadata": {},
     "output_type": "execute_result"
    },
    {
     "data": {
      "image/png": "[encoded data removed]",
      "text/plain": [
       "<Figure size 700x500 with 2 Axes>"
      ]
     },
     "metadata": {},
     "output_type": "display_data"
    }
   ],
   "source": [
    "# Plot the confusion matrix of the model\n",
    "cm = confusion_matrix(test[target], test['predicted'])\n",
    "cm = cm.astype('float') / cm.sum(axis=1)[:, np.newaxis]\n",
    "plt.figure(figsize=(7, 5))\n",
    "sns.heatmap(cm, annot=True, square=True, cmap='Blues', fmt='.2f')\n",
    "plt.ylabel('Actual label')\n",
    "plt.xlabel('Predicted label')\n",
    "plt.title('Confusion matrix of the model without laplace smoothing')"
   ]
  },
  {
   "cell_type": "code",
   "execution_count": 467,
   "id": "03933e8c",
   "metadata": {},
   "outputs": [
    {
     "name": "stdout",
     "output_type": "stream",
     "text": [
      "With Laplace Smoothing:\n"
     ]
    },
    {
     "data": {
      "text/html": [
       "<div>\n",
       "<style scoped>\n",
       "    .dataframe tbody tr th:only-of-type {\n",
       "        vertical-align: middle;\n",
       "    }\n",
       "\n",
       "    .dataframe tbody tr th {\n",
       "        vertical-align: top;\n",
       "    }\n",
       "\n",
       "    .dataframe thead th {\n",
       "        text-align: right;\n",
       "    }\n",
       "</style>\n",
       "<table border=\"1\" class=\"dataframe\">\n",
       "  <thead>\n",
       "    <tr style=\"text-align: right;\">\n",
       "      <th></th>\n",
       "      <th>Model</th>\n",
       "      <th>Accuracy</th>\n",
       "      <th>Precision</th>\n",
       "      <th>Recall</th>\n",
       "      <th>F1 Score</th>\n",
       "    </tr>\n",
       "  </thead>\n",
       "  <tbody>\n",
       "    <tr>\n",
       "      <th>0</th>\n",
       "      <td>Model:L</td>\n",
       "      <td>0.832617</td>\n",
       "      <td>0.708297</td>\n",
       "      <td>0.517549</td>\n",
       "      <td>0.598083</td>\n",
       "    </tr>\n",
       "    <tr>\n",
       "      <th>1</th>\n",
       "      <td>Model:L</td>\n",
       "      <td>0.840295</td>\n",
       "      <td>0.710306</td>\n",
       "      <td>0.512391</td>\n",
       "      <td>0.595331</td>\n",
       "    </tr>\n",
       "    <tr>\n",
       "      <th>2</th>\n",
       "      <td>Model:L</td>\n",
       "      <td>0.838299</td>\n",
       "      <td>0.712352</td>\n",
       "      <td>0.541479</td>\n",
       "      <td>0.615272</td>\n",
       "    </tr>\n",
       "    <tr>\n",
       "      <th>3</th>\n",
       "      <td>Model:L</td>\n",
       "      <td>0.837531</td>\n",
       "      <td>0.712554</td>\n",
       "      <td>0.531311</td>\n",
       "      <td>0.608728</td>\n",
       "    </tr>\n",
       "    <tr>\n",
       "      <th>4</th>\n",
       "      <td>Model:L</td>\n",
       "      <td>0.828471</td>\n",
       "      <td>0.716949</td>\n",
       "      <td>0.519337</td>\n",
       "      <td>0.602350</td>\n",
       "    </tr>\n",
       "    <tr>\n",
       "      <th>5</th>\n",
       "      <td>Model:L</td>\n",
       "      <td>0.835074</td>\n",
       "      <td>0.719785</td>\n",
       "      <td>0.513738</td>\n",
       "      <td>0.599553</td>\n",
       "    </tr>\n",
       "    <tr>\n",
       "      <th>6</th>\n",
       "      <td>Model:L</td>\n",
       "      <td>0.835534</td>\n",
       "      <td>0.731986</td>\n",
       "      <td>0.520951</td>\n",
       "      <td>0.608696</td>\n",
       "    </tr>\n",
       "    <tr>\n",
       "      <th>7</th>\n",
       "      <td>Model:L</td>\n",
       "      <td>0.829699</td>\n",
       "      <td>0.711392</td>\n",
       "      <td>0.523602</td>\n",
       "      <td>0.603220</td>\n",
       "    </tr>\n",
       "    <tr>\n",
       "      <th>8</th>\n",
       "      <td>Model:L</td>\n",
       "      <td>0.834306</td>\n",
       "      <td>0.711053</td>\n",
       "      <td>0.522379</td>\n",
       "      <td>0.602285</td>\n",
       "    </tr>\n",
       "    <tr>\n",
       "      <th>9</th>\n",
       "      <td>Model:L</td>\n",
       "      <td>0.832463</td>\n",
       "      <td>0.704250</td>\n",
       "      <td>0.519846</td>\n",
       "      <td>0.598158</td>\n",
       "    </tr>\n",
       "  </tbody>\n",
       "</table>\n",
       "</div>"
      ],
      "text/plain": [
       "     Model  Accuracy  Precision    Recall  F1 Score\n",
       "0  Model:L  0.832617   0.708297  0.517549  0.598083\n",
       "1  Model:L  0.840295   0.710306  0.512391  0.595331\n",
       "2  Model:L  0.838299   0.712352  0.541479  0.615272\n",
       "3  Model:L  0.837531   0.712554  0.531311  0.608728\n",
       "4  Model:L  0.828471   0.716949  0.519337  0.602350\n",
       "5  Model:L  0.835074   0.719785  0.513738  0.599553\n",
       "6  Model:L  0.835534   0.731986  0.520951  0.608696\n",
       "7  Model:L  0.829699   0.711392  0.523602  0.603220\n",
       "8  Model:L  0.834306   0.711053  0.522379  0.602285\n",
       "9  Model:L  0.832463   0.704250  0.519846  0.598158"
      ]
     },
     "execution_count": 467,
     "metadata": {},
     "output_type": "execute_result"
    }
   ],
   "source": [
    "print(\"With Laplace Smoothing:\")\n",
    "results_lap"
   ]
  },
  {
   "cell_type": "code",
   "execution_count": 468,
   "id": "696b9d39",
   "metadata": {},
   "outputs": [
    {
     "name": "stdout",
     "output_type": "stream",
     "text": [
      "Average Accuracy with Laplace Smoothing:  0.8344287469287469\n",
      "Average Precision with Laplace Smoothing:  0.7138924917759029\n",
      "Average Recall with Laplace Smoothing:  0.5222583220693078\n",
      "Average F1 Score with Laplace Smoothing:  0.6031674865323613\n"
     ]
    }
   ],
   "source": [
    "# Calculate the average accuracy, precision, recall and f1 score of the model and the model with Laplace Smoothing\n",
    "print(\"Average Accuracy with Laplace Smoothing: \", np.mean(acc_lap))\n",
    "print(\"Average Precision with Laplace Smoothing: \", np.mean(pre_lap))\n",
    "print(\"Average Recall with Laplace Smoothing: \", np.mean(rec_lap))\n",
    "print(\"Average F1 Score with Laplace Smoothing: \", np.mean(f1_lap))"
   ]
  },
  {
   "cell_type": "code",
   "execution_count": 469,
   "id": "31869f47",
   "metadata": {},
   "outputs": [
    {
     "data": {
      "image/png": "[encoded data removed]",
      "text/plain": [
       "<Figure size 700x500 with 2 Axes>"
      ]
     },
     "metadata": {},
     "output_type": "display_data"
    }
   ],
   "source": [
    "# Plot the confusion matrix of the model with Laplace Smoothing\n",
    "cm = confusion_matrix(test2[target], test2['laplace_predicted'])\n",
    "cm = cm.astype('float') / cm.sum(axis=1)[:, np.newaxis]\n",
    "plt.figure(figsize=(7, 5))\n",
    "sns.heatmap(cm, annot=True, square=True, cmap='Blues', fmt='.2f')\n",
    "plt.ylabel('Actual label')\n",
    "plt.xlabel('Predicted label')\n",
    "plt.title('Confusion matrix of the model with laplace smoothing')\n",
    "plt.show()"
   ]
  },
  {
   "cell_type": "code",
   "execution_count": 470,
   "id": "d27ec0ea",
   "metadata": {},
   "outputs": [
    {
     "name": "stdout",
     "output_type": "stream",
     "text": [
      "[' State-gov', ' Bachelors', ' White', ' Not-in-family', ' Male', ' Never-married', ' United-States', ' Adm-clerical']\n",
      "Index(['39', ' 77516', ' 13', ' 2174', ' 0', ' 40'], dtype='object')\n",
      "Dimension of df2:  (32560, 106)\n",
      "Dimension of df3:  (32560, 106)\n"
     ]
    }
   ],
   "source": [
    "# One Hot Encode\n",
    "print(cat_cols)\n",
    "print(num_cols)\n",
    "df2 = pd.get_dummies(df, columns=cat_cols)\n",
    "df3 = pd.get_dummies(df, columns=cat_cols)\n",
    "print(\"Dimension of df2: \", df2.shape)\n",
    "print(\"Dimension of df3: \", df3.shape)"
   ]
  },
  {
   "cell_type": "code",
   "execution_count": 471,
   "id": "f420b959",
   "metadata": {},
   "outputs": [
    {
     "name": "stdout",
     "output_type": "stream",
     "text": [
      "Resutls of Logistic Regression Model:\n",
      "Accuracy:  0.7920761670761671\n",
      "Precision:  0.6878306878306878\n",
      "Recall:  0.2488832163369496\n",
      "F1 Score:  0.3655107778819119\n"
     ]
    },
    {
     "data": {
      "image/png": "[encoded data removed]",
      "text/plain": [
       "<Figure size 700x500 with 2 Axes>"
      ]
     },
     "metadata": {},
     "output_type": "display_data"
    }
   ],
   "source": [
    "# Run the model with logistic regression from sklearn\n",
    "from sklearn.linear_model import LogisticRegression\n",
    "from sklearn.model_selection import train_test_split\n",
    "from sklearn.metrics import accuracy_score, precision_score, recall_score, f1_score\n",
    "\n",
    "# Split the data into training set and test set\n",
    "train, test = train_test_split(df2, test_size=0.2)\n",
    "train = train.reset_index(drop=True)\n",
    "test = test.reset_index(drop=True)\n",
    "store = test[target]\n",
    "test = test.drop(target, axis=1)\n",
    "\n",
    "# Train the model\n",
    "logreg = LogisticRegression()\n",
    "logreg.fit(train.drop(target, axis=1), train[target])\n",
    "\n",
    "# Predict the test set\n",
    "test['predicted'] = logreg.predict(test)\n",
    "test.insert(0, target, store)\n",
    "val = 'predicted'\n",
    "\n",
    "# Calculate the accuracy, precision, recall and f1 score of the model\n",
    "print(\"Resutls of Logistic Regression Model:\")\n",
    "print(\"Accuracy: \", accuracy_score(test[target], test['predicted']))\n",
    "print(\"Precision: \", precision_score(test[target], test['predicted']))\n",
    "print(\"Recall: \", recall_score(test[target], test['predicted']))\n",
    "print(\"F1 Score: \", f1_score(test[target], test['predicted']))\n",
    "\n",
    "# Plot the confusion matrix of the model\n",
    "cm = confusion_matrix(test[target], test['predicted'])\n",
    "cm = cm.astype('float') / cm.sum(axis=1)[:, np.newaxis]\n",
    "plt.figure(figsize=(7, 5))\n",
    "sns.heatmap(cm, annot=True, square=True, cmap='Blues', fmt='.2f')\n",
    "plt.ylabel('Actual label')\n",
    "plt.xlabel('Predicted label')\n",
    "plt.title('Confusion matrix of the model with logistic regression')\n",
    "plt.show()"
   ]
  },
  {
   "cell_type": "code",
   "execution_count": 472,
   "id": "7e87e2c6",
   "metadata": {},
   "outputs": [
    {
     "name": "stdout",
     "output_type": "stream",
     "text": [
      "Resuls of KNN: \n",
      "Accuracy:  0.7670454545454546\n",
      "Precision:  0.5301478953356087\n",
      "Recall:  0.2968152866242038\n",
      "F1 Score:  0.3805634953042058\n"
     ]
    },
    {
     "data": {
      "text/plain": [
       "<function matplotlib.pyplot.show(close=None, block=None)>"
      ]
     },
     "execution_count": 472,
     "metadata": {},
     "output_type": "execute_result"
    },
    {
     "data": {
      "image/png": "[encoded data removed]",
      "text/plain": [
       "<Figure size 700x500 with 2 Axes>"
      ]
     },
     "metadata": {},
     "output_type": "display_data"
    }
   ],
   "source": [
    "# Run the model with KNN from sklearn\n",
    "from sklearn.neighbors import KNeighborsClassifier\n",
    "from sklearn.model_selection import train_test_split\n",
    "from sklearn.metrics import accuracy_score, precision_score, recall_score, f1_score\n",
    "\n",
    "# Split the data into training set and test set\n",
    "train, test = train_test_split(df3, test_size=0.2)\n",
    "train = train.reset_index(drop=True)\n",
    "test = test.reset_index(drop=True)\n",
    "store = test[target]\n",
    "test = test.drop(target, axis=1)\n",
    "\n",
    "# Train the model\n",
    "knn = KNeighborsClassifier(n_neighbors=5)\n",
    "knn.fit(train.drop(target, axis=1), train[target])\n",
    "\n",
    "# Predict the test set\n",
    "test['predicted'] = knn.predict(test)\n",
    "test.insert(0, target, store)\n",
    "val = 'predicted'\n",
    "\n",
    "# Calculate the accuracy, precision, recall and f1 score of the model\n",
    "print(\"Resuls of KNN: \")\n",
    "print(\"Accuracy: \", accuracy_score(test[target], test['predicted']))\n",
    "print(\"Precision: \", precision_score(test[target], test['predicted']))\n",
    "print(\"Recall: \", recall_score(test[target], test['predicted']))\n",
    "print(\"F1 Score: \", f1_score(test[target], test['predicted']))\n",
    "\n",
    "# Generate the confusion matrix plot\n",
    "cm = confusion_matrix(test[target], test['predicted'])\n",
    "cm = cm.astype('float') / cm.sum(axis=1)[:, np.newaxis]\n",
    "plt.figure(figsize=(7, 5))\n",
    "sns.heatmap(cm, annot=True, square=True, cmap='Blues', fmt='.2f')\n",
    "plt.ylabel('Actual label')\n",
    "plt.xlabel('Predicted label')\n",
    "plt.title('Confusion matrix of the model with KNN')\n",
    "plt.show\n"
   ]
  }
 ],
 "metadata": {
  "kernelspec": {
   "display_name": "Python 3 (ipykernel)",
   "language": "python",
   "name": "python3"
  },
  "language_info": {
   "codemirror_mode": {
    "name": "ipython",
    "version": 3
   },
   "file_extension": ".py",
   "mimetype": "text/x-python",
   "name": "python",
   "nbconvert_exporter": "python",
   "pygments_lexer": "ipython3",
   "version": "3.11.3"
  }
 },
 "nbformat": 4,
 "nbformat_minor": 5
}
