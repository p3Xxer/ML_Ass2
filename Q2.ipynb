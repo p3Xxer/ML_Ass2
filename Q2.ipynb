{
 "cells": [
  {
   "cell_type": "code",
   "execution_count": null,
   "id": "1569c469",
   "metadata": {
    "scrolled": true
   },
   "outputs": [
    {
     "name": "stdout",
     "output_type": "stream",
     "text": [
      "Epoch 1/10\n",
      "1875/1875 [==============================] - 4s 2ms/step - loss: 0.5975 - accuracy: 0.8461\n",
      "Epoch 2/10\n",
      "1875/1875 [==============================] - 4s 2ms/step - loss: 0.3261 - accuracy: 0.9073\n",
      "Epoch 3/10\n",
      "1875/1875 [==============================] - 4s 2ms/step - loss: 0.2829 - accuracy: 0.9190\n",
      "Epoch 4/10\n",
      "1875/1875 [==============================] - 3s 2ms/step - loss: 0.2552 - accuracy: 0.9270\n",
      "Epoch 5/10\n",
      "1875/1875 [==============================] - 4s 2ms/step - loss: 0.2329 - accuracy: 0.9342\n",
      "Epoch 6/10\n",
      "1875/1875 [==============================] - 4s 2ms/step - loss: 0.2135 - accuracy: 0.9387\n",
      "Epoch 7/10\n",
      "1875/1875 [==============================] - 4s 2ms/step - loss: 0.1963 - accuracy: 0.9440\n",
      "Epoch 8/10\n",
      " 683/1875 [=========>....................] - ETA: 2s - loss: 0.1836 - accuracy: 0.9488"
     ]
    }
   ],
   "source": [
    "from keras.datasets import mnist\n",
    "from keras.models import Sequential\n",
    "from keras.layers import Activation, Dense\n",
    "from keras.utils import to_categorical\n",
    "from keras.optimizers import SGD, Adam\n",
    "from sklearn.metrics import confusion_matrix, accuracy_score\n",
    "import numpy as np\n",
    "import pandas as pd\n",
    "import matplotlib.pyplot as plt\n",
    "import seaborn as sb\n",
    "\n",
    "(x_train, y_train), (x_test, y_test) = mnist.load_data()\n",
    "\n",
    "x_train = x_train.reshape(60000, 784)\n",
    "x_test = x_test.reshape(10000, 784)\n",
    "x_train = x_train.astype('float32')\n",
    "x_test = x_test.astype('float32')\n",
    "x_train /= 255\n",
    "x_test /= 255\n",
    "y_train = to_categorical(y_train, 10)\n",
    "y_test = to_categorical(y_test, 10)\n",
    "\n",
    "hidden_layers = [2, 3]\n",
    "neurons = [100, 150]\n",
    "activations = ['tanh', 'sigmoid', 'relu']\n",
    "optimizers = [SGD(), Adam()]\n",
    "\n",
    "models = []\n",
    "for hl in hidden_layers:\n",
    "    for n in neurons:\n",
    "        for a in activations:\n",
    "            model = Sequential()\n",
    "            model.add(Dense(n, input_dim=784, activation=a))\n",
    "            for i in range(hl-1):\n",
    "                model.add(Dense(n, activation=a))\n",
    "            model.add(Dense(10, activation='softmax'))\n",
    "            models.append(model)\n",
    "\n",
    "for opt in optimizers:\n",
    "    for model in models:\n",
    "        model.compile(loss='categorical_crossentropy', optimizer=opt, metrics=['accuracy'])\n",
    "        model.fit(x_train, y_train, epochs=10, batch_size=32)\n",
    "\n",
    "accuracies = []\n",
    "confusion_matrices = []\n",
    "for model in models:\n",
    "    y_pred = model.predict(x_test)\n",
    "    y_pred_classes = np.argmax(y_pred, axis=1)\n",
    "    y_test_classes = np.argmax(y_test, axis=1)\n",
    "    acc = accuracy_score(y_test_classes, y_pred_classes)\n",
    "    cm = confusion_matrix(y_test_classes, y_pred_classes)\n",
    "    accuracies.append(acc)\n",
    "    confusion_matrices.append(cm)\n",
    "\n",
    "best_index = np.argmax(accuracies)\n",
    "best_model = models[best_index]\n",
    "best_accuracy = accuracies[best_index]\n",
    "best_cm = confusion_matrices[best_index]\n",
    "\n",
    "print(\"Best model: \", best_model)\n",
    "print(\"Best accuracy: \", best_accuracy)\n",
    "print(\"Confusion matrix: \\n\", best_cm)"
   ]
  },
  {
   "cell_type": "code",
   "execution_count": null,
   "id": "91530b08",
   "metadata": {},
   "outputs": [],
   "source": [
    "from scipy import stats\n",
    "print(best_index)\n",
    "models[best_index].summary()"
   ]
  },
  {
   "cell_type": "code",
   "execution_count": null,
   "id": "57f2f80c",
   "metadata": {},
   "outputs": [],
   "source": [
    "from scipy.stats import describe\n",
    "res=describe(accuracies)\n",
    "print(res)\n",
    "\n",
    "from scipy import stats\n",
    "t_value,p_value=stats.ttest_1samp(accuracies,0.1)\n",
    "print(t_value,p_value)\n",
    "\n",
    "from scipy.stats import kstest\n",
    "res=kstest(accuracies, 'norm')\n",
    "print(res)"
   ]
  }
 ],
 "metadata": {
  "kernelspec": {
   "display_name": "Python 3 (ipykernel)",
   "language": "python",
   "name": "python3"
  },
  "language_info": {
   "codemirror_mode": {
    "name": "ipython",
    "version": 3
   },
   "file_extension": ".py",
   "mimetype": "text/x-python",
   "name": "python",
   "nbconvert_exporter": "python",
   "pygments_lexer": "ipython3",
   "version": "3.9.13"
  }
 },
 "nbformat": 4,
 "nbformat_minor": 5
}
